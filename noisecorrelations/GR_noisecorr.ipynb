{
 "cells": [
  {
   "cell_type": "markdown",
   "metadata": {},
   "source": [
    "Load the libraries"
   ]
  },
  {
   "cell_type": "code",
   "execution_count": 1,
   "metadata": {},
   "outputs": [],
   "source": [
    "####################################################\n",
    "import math, os\n",
    "os.chdir('e:\\\\Python\\\\molanalysis')\n",
    "\n",
    "from loaddata.get_data_folder import get_local_drive\n",
    "# os.chdir(os.path.join(get_local_drive(),'Python','molanalysis'))\n",
    "\n",
    "import numpy as np\n",
    "import pandas as pd\n",
    "import matplotlib.pyplot as plt\n",
    "import seaborn as sns\n",
    "from scipy.signal import medfilt\n",
    "from scipy.stats import binned_statistic,binned_statistic_2d\n",
    "\n",
    "from statannotations.Annotator import Annotator\n",
    "\n",
    "from loaddata.session_info import filter_sessions,load_sessions\n",
    "from utils.psth import compute_respmat\n",
    "from utils.tuning import compute_tuning, compute_prefori\n",
    "from utils.plotting_style import * #get all the fixed color schemes\n",
    "from utils.explorefigs import plot_PCA_gratings,plot_PCA_gratings_3D,plot_excerpt\n",
    "from utils.plot_lib import shaded_error\n",
    "from utils.RRRlib import regress_out_behavior_modulation\n",
    "from utils.corr_lib import *\n",
    "from utils.rf_lib import smooth_rf"
   ]
  },
  {
   "cell_type": "code",
   "execution_count": 2,
   "metadata": {},
   "outputs": [
    {
     "name": "stdout",
     "output_type": "stream",
     "text": [
      "['GR'] dataset: 1 mice, 1 sessions, 3200 trials\n",
      "Neurons in area:\n",
      "roi_name\n",
      "PM    1622\n",
      "V1    1643\n",
      "Name: roi_name, dtype: int64\n"
     ]
    }
   ],
   "source": [
    "savedir = os.path.join(get_local_drive(),'OneDrive\\\\PostDoc\\\\Figures\\\\Neural - Gratings\\\\')\n",
    "\n",
    "##############################################################################\n",
    "session_list        = np.array([['LPE10919','2023_11_06']])\n",
    "\n",
    "#%% Load sessions lazy: \n",
    "# sessions,nSessions   = filter_sessions(protocols = ['GR'])\n",
    "sessions,nSessions   = load_sessions(protocol = 'GR',session_list=session_list)\n"
   ]
  },
  {
   "cell_type": "code",
   "execution_count": 3,
   "metadata": {},
   "outputs": [
    {
     "name": "stdout",
     "output_type": "stream",
     "text": [
      "Loading calcium data at E:/Procdata\\GR\\LPE10919\\2023_11_06\\deconvdata.csv\n"
     ]
    }
   ],
   "source": [
    "## Load proper data and compute average trial responses:                      \n",
    "# for ises in range(nSessions):    # iterate over sessions\n",
    "    # sessions[ises].load_respmat(load_behaviordata=True, load_calciumdata=True,load_videodata=True,calciumversion='deconv')\n",
    "    # sessions[ises].load_respmat(calciumversion='deconv')\n",
    "ises = 0\n",
    "sessions[ises].load_data(load_behaviordata=True, load_calciumdata=True,\n",
    "                       load_videodata=True,calciumversion='deconv')\n"
   ]
  },
  {
   "cell_type": "code",
   "execution_count": 4,
   "metadata": {},
   "outputs": [
    {
     "name": "stdout",
     "output_type": "stream",
     "text": [
      "> \u001b[1;32me:\\python\\molanalysis\\utils\\psth.py\u001b[0m(203)\u001b[0;36mcompute_respmat\u001b[1;34m()\u001b[0m\n",
      "\u001b[1;32m    201 \u001b[1;33m    \u001b[0mpdb\u001b[0m\u001b[1;33m.\u001b[0m\u001b[0mset_trace\u001b[0m\u001b[1;33m(\u001b[0m\u001b[1;33m)\u001b[0m\u001b[1;33m\u001b[0m\u001b[1;33m\u001b[0m\u001b[0m\n",
      "\u001b[0m\u001b[1;32m    202 \u001b[1;33m\u001b[1;33m\u001b[0m\u001b[0m\n",
      "\u001b[0m\u001b[1;32m--> 203 \u001b[1;33m    \u001b[1;32massert\u001b[0m \u001b[0mnp\u001b[0m\u001b[1;33m.\u001b[0m\u001b[0mshape\u001b[0m\u001b[1;33m(\u001b[0m\u001b[0mdata\u001b[0m\u001b[1;33m)\u001b[0m\u001b[1;33m[\u001b[0m\u001b[1;36m0\u001b[0m\u001b[1;33m]\u001b[0m \u001b[1;33m>\u001b[0m \u001b[0mnp\u001b[0m\u001b[1;33m.\u001b[0m\u001b[0mshape\u001b[0m\u001b[1;33m(\u001b[0m\u001b[0mdata\u001b[0m\u001b[1;33m)\u001b[0m\u001b[1;33m[\u001b[0m\u001b[1;36m1\u001b[0m\u001b[1;33m]\u001b[0m\u001b[1;33m,\u001b[0m \u001b[1;34m'the data matrix appears to have more neurons than timepoints'\u001b[0m\u001b[1;33m\u001b[0m\u001b[1;33m\u001b[0m\u001b[0m\n",
      "\u001b[0m\u001b[1;32m    204 \u001b[1;33m    \u001b[1;32massert\u001b[0m \u001b[0mnp\u001b[0m\u001b[1;33m.\u001b[0m\u001b[0mshape\u001b[0m\u001b[1;33m(\u001b[0m\u001b[0mdata\u001b[0m\u001b[1;33m)\u001b[0m\u001b[1;33m[\u001b[0m\u001b[1;36m0\u001b[0m\u001b[1;33m]\u001b[0m \u001b[1;33m==\u001b[0m \u001b[0mnp\u001b[0m\u001b[1;33m.\u001b[0m\u001b[0mshape\u001b[0m\u001b[1;33m(\u001b[0m\u001b[0mts_F\u001b[0m\u001b[1;33m)\u001b[0m\u001b[1;33m[\u001b[0m\u001b[1;36m0\u001b[0m\u001b[1;33m]\u001b[0m\u001b[1;33m,\u001b[0m \u001b[1;34m'the amount of datapoints does not seem to match the timestamps'\u001b[0m\u001b[1;33m\u001b[0m\u001b[1;33m\u001b[0m\u001b[0m\n",
      "\u001b[0m\u001b[1;32m    205 \u001b[1;33m\u001b[1;33m\u001b[0m\u001b[0m\n",
      "\u001b[0m\n"
     ]
    }
   ],
   "source": [
    "respmat         = compute_respmat(sessions[ises].calciumdata, sessions[ises].ts_F, sessions[ises].trialdata['tOnset'],\n",
    "                                        t_resp_start=0,t_resp_stop=1,method='mean',subtr_baseline=False)\n",
    "\n",
    "sessions[ises].trialdata\n",
    "sessions[ises].celldata\n",
    "sessions[ises].calciumdata\n",
    "sessions[ises].ts_F\n",
    "sessions[ises].F_chan2"
   ]
  },
  {
   "cell_type": "markdown",
   "metadata": {},
   "source": []
  },
  {
   "cell_type": "code",
   "execution_count": 5,
   "metadata": {},
   "outputs": [],
   "source": [
    "\n",
    "import pdb\n"
   ]
  },
  {
   "cell_type": "code",
   "execution_count": null,
   "metadata": {},
   "outputs": [],
   "source": []
  },
  {
   "cell_type": "markdown",
   "metadata": {},
   "source": [
    "This is supposed"
   ]
  },
  {
   "cell_type": "markdown",
   "metadata": {},
   "source": []
  }
 ],
 "metadata": {
  "kernelspec": {
   "display_name": "molanalysis",
   "language": "python",
   "name": "python3"
  },
  "language_info": {
   "codemirror_mode": {
    "name": "ipython",
    "version": 3
   },
   "file_extension": ".py",
   "mimetype": "text/x-python",
   "name": "python",
   "nbconvert_exporter": "python",
   "pygments_lexer": "ipython3",
   "version": "3.8.16"
  }
 },
 "nbformat": 4,
 "nbformat_minor": 2
}
